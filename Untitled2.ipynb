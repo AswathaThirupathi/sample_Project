{
 "cells": [
  {
   "cell_type": "code",
   "execution_count": 1,
   "id": "5cb54d9e",
   "metadata": {},
   "outputs": [],
   "source": [
    "x=2"
   ]
  },
  {
   "cell_type": "code",
   "execution_count": 2,
   "id": "03d95177",
   "metadata": {},
   "outputs": [
    {
     "data": {
      "text/plain": [
       "5"
      ]
     },
     "execution_count": 2,
     "metadata": {},
     "output_type": "execute_result"
    }
   ],
   "source": [
    "x+3"
   ]
  },
  {
   "cell_type": "code",
   "execution_count": 3,
   "id": "69926467",
   "metadata": {},
   "outputs": [],
   "source": [
    "x=9"
   ]
  },
  {
   "cell_type": "code",
   "execution_count": 4,
   "id": "821f8cf1",
   "metadata": {},
   "outputs": [],
   "source": [
    "y=3"
   ]
  },
  {
   "cell_type": "code",
   "execution_count": 5,
   "id": "dd5e01e8",
   "metadata": {},
   "outputs": [
    {
     "data": {
      "text/plain": [
       "12"
      ]
     },
     "execution_count": 5,
     "metadata": {},
     "output_type": "execute_result"
    }
   ],
   "source": [
    "x+y"
   ]
  },
  {
   "cell_type": "code",
   "execution_count": 6,
   "id": "ab967f96",
   "metadata": {},
   "outputs": [
    {
     "data": {
      "text/plain": [
       "19"
      ]
     },
     "execution_count": 6,
     "metadata": {},
     "output_type": "execute_result"
    }
   ],
   "source": [
    "x+10"
   ]
  },
  {
   "cell_type": "code",
   "execution_count": 7,
   "id": "05e522f5",
   "metadata": {},
   "outputs": [],
   "source": [
    "name='ash'"
   ]
  },
  {
   "cell_type": "code",
   "execution_count": 9,
   "id": "56b86ce5",
   "metadata": {},
   "outputs": [
    {
     "data": {
      "text/plain": [
       "'ash'"
      ]
     },
     "execution_count": 9,
     "metadata": {},
     "output_type": "execute_result"
    }
   ],
   "source": [
    " name"
   ]
  },
  {
   "cell_type": "code",
   "execution_count": 11,
   "id": "78049599",
   "metadata": {},
   "outputs": [
    {
     "data": {
      "text/plain": [
       "'h'"
      ]
     },
     "execution_count": 11,
     "metadata": {},
     "output_type": "execute_result"
    }
   ],
   "source": [
    "name[2]"
   ]
  },
  {
   "cell_type": "markdown",
   "id": "95571cfb",
   "metadata": {},
   "source": []
  },
  {
   "cell_type": "code",
   "execution_count": 12,
   "id": "3d6aa718",
   "metadata": {},
   "outputs": [
    {
     "data": {
      "text/plain": [
       "'h'"
      ]
     },
     "execution_count": 12,
     "metadata": {},
     "output_type": "execute_result"
    }
   ],
   "source": [
    "name[-1]"
   ]
  },
  {
   "cell_type": "code",
   "execution_count": 13,
   "id": "191c3bfa",
   "metadata": {},
   "outputs": [
    {
     "data": {
      "text/plain": [
       "'a'"
      ]
     },
     "execution_count": 13,
     "metadata": {},
     "output_type": "execute_result"
    }
   ],
   "source": [
    "name[0:1]"
   ]
  },
  {
   "cell_type": "code",
   "execution_count": 14,
   "id": "bc9e8441",
   "metadata": {},
   "outputs": [
    {
     "data": {
      "text/plain": [
       "'ashwatha'"
      ]
     },
     "execution_count": 14,
     "metadata": {},
     "output_type": "execute_result"
    }
   ],
   "source": [
    "name + 'watha'"
   ]
  },
  {
   "cell_type": "code",
   "execution_count": 15,
   "id": "f229745c",
   "metadata": {},
   "outputs": [],
   "source": [
    "name='ashwa'"
   ]
  },
  {
   "cell_type": "code",
   "execution_count": 16,
   "id": "9e27e65b",
   "metadata": {},
   "outputs": [
    {
     "data": {
      "text/plain": [
       "'ashwatha'"
      ]
     },
     "execution_count": 16,
     "metadata": {},
     "output_type": "execute_result"
    }
   ],
   "source": [
    "name+'tha'"
   ]
  },
  {
   "cell_type": "code",
   "execution_count": 17,
   "id": "5eabb151",
   "metadata": {},
   "outputs": [
    {
     "data": {
      "text/plain": [
       "5"
      ]
     },
     "execution_count": 17,
     "metadata": {},
     "output_type": "execute_result"
    }
   ],
   "source": [
    "len(name)"
   ]
  },
  {
   "cell_type": "code",
   "execution_count": 19,
   "id": "32499df3",
   "metadata": {},
   "outputs": [],
   "source": [
    "nums=[25,12,36,95,14]"
   ]
  },
  {
   "cell_type": "code",
   "execution_count": 20,
   "id": "b2c294e9",
   "metadata": {},
   "outputs": [
    {
     "data": {
      "text/plain": [
       "[25, 12, 36, 95, 14]"
      ]
     },
     "execution_count": 20,
     "metadata": {},
     "output_type": "execute_result"
    }
   ],
   "source": [
    "nums"
   ]
  },
  {
   "cell_type": "code",
   "execution_count": 21,
   "id": "a41f6abf",
   "metadata": {},
   "outputs": [
    {
     "data": {
      "text/plain": [
       "25"
      ]
     },
     "execution_count": 21,
     "metadata": {},
     "output_type": "execute_result"
    }
   ],
   "source": [
    "nums[0]"
   ]
  },
  {
   "cell_type": "code",
   "execution_count": 22,
   "id": "4feb5baa",
   "metadata": {},
   "outputs": [
    {
     "data": {
      "text/plain": [
       "14"
      ]
     },
     "execution_count": 22,
     "metadata": {},
     "output_type": "execute_result"
    }
   ],
   "source": [
    "nums[-1]"
   ]
  },
  {
   "cell_type": "code",
   "execution_count": 23,
   "id": "a40bd1f2",
   "metadata": {},
   "outputs": [
    {
     "data": {
      "text/plain": [
       "[36, 95, 14]"
      ]
     },
     "execution_count": 23,
     "metadata": {},
     "output_type": "execute_result"
    }
   ],
   "source": [
    "nums[2:]"
   ]
  },
  {
   "cell_type": "code",
   "execution_count": 24,
   "id": "0f29cff1",
   "metadata": {},
   "outputs": [],
   "source": [
    "names=['ash','navi','lavs']"
   ]
  },
  {
   "cell_type": "code",
   "execution_count": 25,
   "id": "248493fc",
   "metadata": {},
   "outputs": [
    {
     "data": {
      "text/plain": [
       "['ash', 'navi', 'lavs']"
      ]
     },
     "execution_count": 25,
     "metadata": {},
     "output_type": "execute_result"
    }
   ],
   "source": [
    "names"
   ]
  },
  {
   "cell_type": "code",
   "execution_count": 26,
   "id": "73f0f133",
   "metadata": {},
   "outputs": [],
   "source": [
    "values=[905,name,5.2]"
   ]
  },
  {
   "cell_type": "code",
   "execution_count": 27,
   "id": "fa22007d",
   "metadata": {},
   "outputs": [
    {
     "data": {
      "text/plain": [
       "[905, 'ashwa', 5.2]"
      ]
     },
     "execution_count": 27,
     "metadata": {},
     "output_type": "execute_result"
    }
   ],
   "source": [
    "values"
   ]
  },
  {
   "cell_type": "code",
   "execution_count": 28,
   "id": "f107ca6c",
   "metadata": {},
   "outputs": [],
   "source": [
    "mil=[nums,names]"
   ]
  },
  {
   "cell_type": "code",
   "execution_count": 29,
   "id": "3b8fca9f",
   "metadata": {},
   "outputs": [
    {
     "data": {
      "text/plain": [
       "[[25, 12, 36, 95, 14], ['ash', 'navi', 'lavs']]"
      ]
     },
     "execution_count": 29,
     "metadata": {},
     "output_type": "execute_result"
    }
   ],
   "source": [
    "mil"
   ]
  },
  {
   "cell_type": "code",
   "execution_count": 30,
   "id": "bd3e8fec",
   "metadata": {},
   "outputs": [],
   "source": [
    "nums.append(45)"
   ]
  },
  {
   "cell_type": "code",
   "execution_count": 31,
   "id": "80dc13bf",
   "metadata": {},
   "outputs": [
    {
     "data": {
      "text/plain": [
       "[25, 12, 36, 95, 14, 45]"
      ]
     },
     "execution_count": 31,
     "metadata": {},
     "output_type": "execute_result"
    }
   ],
   "source": [
    "nums"
   ]
  },
  {
   "cell_type": "code",
   "execution_count": 32,
   "id": "f9baf41c",
   "metadata": {},
   "outputs": [],
   "source": [
    "nums.insert(2,77)"
   ]
  },
  {
   "cell_type": "code",
   "execution_count": 33,
   "id": "ba1ab2a4",
   "metadata": {},
   "outputs": [
    {
     "data": {
      "text/plain": [
       "[25, 12, 77, 36, 95, 14, 45]"
      ]
     },
     "execution_count": 33,
     "metadata": {},
     "output_type": "execute_result"
    }
   ],
   "source": [
    "nums"
   ]
  },
  {
   "cell_type": "code",
   "execution_count": 34,
   "id": "2e3bffb0",
   "metadata": {},
   "outputs": [],
   "source": [
    "nums.remove(14)"
   ]
  },
  {
   "cell_type": "code",
   "execution_count": 35,
   "id": "b362ac86",
   "metadata": {},
   "outputs": [
    {
     "data": {
      "text/plain": [
       "[25, 12, 77, 36, 95, 45]"
      ]
     },
     "execution_count": 35,
     "metadata": {},
     "output_type": "execute_result"
    }
   ],
   "source": [
    "nums"
   ]
  },
  {
   "cell_type": "code",
   "execution_count": 36,
   "id": "a1ed3852",
   "metadata": {},
   "outputs": [
    {
     "data": {
      "text/plain": [
       "12"
      ]
     },
     "execution_count": 36,
     "metadata": {},
     "output_type": "execute_result"
    }
   ],
   "source": [
    "nums.pop(1)"
   ]
  },
  {
   "cell_type": "code",
   "execution_count": 37,
   "id": "8c740d01",
   "metadata": {},
   "outputs": [
    {
     "data": {
      "text/plain": [
       "[25, 77, 36, 95, 45]"
      ]
     },
     "execution_count": 37,
     "metadata": {},
     "output_type": "execute_result"
    }
   ],
   "source": [
    "nums"
   ]
  },
  {
   "cell_type": "code",
   "execution_count": 38,
   "id": "050d687c",
   "metadata": {},
   "outputs": [
    {
     "data": {
      "text/plain": [
       "45"
      ]
     },
     "execution_count": 38,
     "metadata": {},
     "output_type": "execute_result"
    }
   ],
   "source": [
    "nums.pop()"
   ]
  },
  {
   "cell_type": "code",
   "execution_count": 39,
   "id": "47dfbe50",
   "metadata": {},
   "outputs": [],
   "source": [
    "del nums[2:]"
   ]
  },
  {
   "cell_type": "code",
   "execution_count": 40,
   "id": "6727e3b5",
   "metadata": {},
   "outputs": [
    {
     "data": {
      "text/plain": [
       "[25, 77]"
      ]
     },
     "execution_count": 40,
     "metadata": {},
     "output_type": "execute_result"
    }
   ],
   "source": [
    "nums"
   ]
  },
  {
   "cell_type": "code",
   "execution_count": 41,
   "id": "57aabe26",
   "metadata": {},
   "outputs": [
    {
     "ename": "TypeError",
     "evalue": "'builtin_function_or_method' object is not subscriptable",
     "output_type": "error",
     "traceback": [
      "\u001b[1;31m---------------------------------------------------------------------------\u001b[0m",
      "\u001b[1;31mTypeError\u001b[0m                                 Traceback (most recent call last)",
      "\u001b[1;32m~\\AppData\\Local\\Temp\\ipykernel_13140\\4003648593.py\u001b[0m in \u001b[0;36m<module>\u001b[1;34m\u001b[0m\n\u001b[1;32m----> 1\u001b[1;33m \u001b[0mnums\u001b[0m\u001b[1;33m.\u001b[0m\u001b[0mextend\u001b[0m\u001b[1;33m[\u001b[0m\u001b[1;33m(\u001b[0m\u001b[1;36m25\u001b[0m\u001b[1;33m,\u001b[0m\u001b[1;36m77\u001b[0m\u001b[1;33m,\u001b[0m\u001b[1;36m29\u001b[0m\u001b[1;33m,\u001b[0m\u001b[1;36m12\u001b[0m\u001b[1;33m,\u001b[0m\u001b[1;36m14\u001b[0m\u001b[1;33m,\u001b[0m\u001b[1;36m36\u001b[0m\u001b[1;33m)\u001b[0m\u001b[1;33m]\u001b[0m\u001b[1;33m\u001b[0m\u001b[1;33m\u001b[0m\u001b[0m\n\u001b[0m",
      "\u001b[1;31mTypeError\u001b[0m: 'builtin_function_or_method' object is not subscriptable"
     ]
    }
   ],
   "source": [
    "nums.extend[(25,77,29,12,14,36)]"
   ]
  },
  {
   "cell_type": "code",
   "execution_count": 42,
   "id": "35ac6dad",
   "metadata": {},
   "outputs": [
    {
     "data": {
      "text/plain": [
       "25"
      ]
     },
     "execution_count": 42,
     "metadata": {},
     "output_type": "execute_result"
    }
   ],
   "source": [
    "min(nums)"
   ]
  },
  {
   "cell_type": "code",
   "execution_count": 43,
   "id": "845445fc",
   "metadata": {},
   "outputs": [
    {
     "data": {
      "text/plain": [
       "77"
      ]
     },
     "execution_count": 43,
     "metadata": {},
     "output_type": "execute_result"
    }
   ],
   "source": [
    "max(nums)"
   ]
  },
  {
   "cell_type": "code",
   "execution_count": 44,
   "id": "979948b4",
   "metadata": {},
   "outputs": [
    {
     "data": {
      "text/plain": [
       "102"
      ]
     },
     "execution_count": 44,
     "metadata": {},
     "output_type": "execute_result"
    }
   ],
   "source": [
    "sum(nums)"
   ]
  },
  {
   "cell_type": "code",
   "execution_count": 45,
   "id": "fc9c91fb",
   "metadata": {},
   "outputs": [],
   "source": [
    "nums.sort()"
   ]
  },
  {
   "cell_type": "code",
   "execution_count": 46,
   "id": "43343976",
   "metadata": {},
   "outputs": [
    {
     "data": {
      "text/plain": [
       "[25, 77]"
      ]
     },
     "execution_count": 46,
     "metadata": {},
     "output_type": "execute_result"
    }
   ],
   "source": [
    "nums"
   ]
  },
  {
   "cell_type": "code",
   "execution_count": 47,
   "id": "afddfad0",
   "metadata": {},
   "outputs": [],
   "source": [
    "tup =(21,36,14,25)"
   ]
  },
  {
   "cell_type": "code",
   "execution_count": 48,
   "id": "00e714cf",
   "metadata": {},
   "outputs": [
    {
     "data": {
      "text/plain": [
       "36"
      ]
     },
     "execution_count": 48,
     "metadata": {},
     "output_type": "execute_result"
    }
   ],
   "source": [
    "tup[1]"
   ]
  },
  {
   "cell_type": "code",
   "execution_count": 49,
   "id": "f0889e50",
   "metadata": {},
   "outputs": [
    {
     "ename": "TypeError",
     "evalue": "tuple.count() takes exactly one argument (0 given)",
     "output_type": "error",
     "traceback": [
      "\u001b[1;31m---------------------------------------------------------------------------\u001b[0m",
      "\u001b[1;31mTypeError\u001b[0m                                 Traceback (most recent call last)",
      "\u001b[1;32m~\\AppData\\Local\\Temp\\ipykernel_13140\\3660475216.py\u001b[0m in \u001b[0;36m<module>\u001b[1;34m\u001b[0m\n\u001b[1;32m----> 1\u001b[1;33m \u001b[0mtup\u001b[0m\u001b[1;33m.\u001b[0m\u001b[0mcount\u001b[0m\u001b[1;33m(\u001b[0m\u001b[1;33m)\u001b[0m\u001b[1;33m\u001b[0m\u001b[1;33m\u001b[0m\u001b[0m\n\u001b[0m",
      "\u001b[1;31mTypeError\u001b[0m: tuple.count() takes exactly one argument (0 given)"
     ]
    }
   ],
   "source": [
    "tup.count()"
   ]
  },
  {
   "cell_type": "code",
   "execution_count": 50,
   "id": "eee2bf39",
   "metadata": {},
   "outputs": [],
   "source": [
    "s={22,25,14,21,5}"
   ]
  },
  {
   "cell_type": "code",
   "execution_count": 51,
   "id": "27d9339c",
   "metadata": {},
   "outputs": [
    {
     "data": {
      "text/plain": [
       "{5, 14, 21, 22, 25}"
      ]
     },
     "execution_count": 51,
     "metadata": {},
     "output_type": "execute_result"
    }
   ],
   "source": [
    "s"
   ]
  },
  {
   "cell_type": "code",
   "execution_count": 52,
   "id": "e0ce92ca",
   "metadata": {},
   "outputs": [],
   "source": [
    "s={25,58,58,45,45}"
   ]
  },
  {
   "cell_type": "code",
   "execution_count": 53,
   "id": "6cf13656",
   "metadata": {},
   "outputs": [
    {
     "data": {
      "text/plain": [
       "{25, 45, 58}"
      ]
     },
     "execution_count": 53,
     "metadata": {},
     "output_type": "execute_result"
    }
   ],
   "source": [
    "s"
   ]
  },
  {
   "cell_type": "code",
   "execution_count": 54,
   "id": "974a970c",
   "metadata": {},
   "outputs": [],
   "source": [
    "l=[45,54,69,89]"
   ]
  },
  {
   "cell_type": "code",
   "execution_count": 56,
   "id": "0c13fd4e",
   "metadata": {},
   "outputs": [],
   "source": [
    "l.append(55)"
   ]
  },
  {
   "cell_type": "code",
   "execution_count": 57,
   "id": "67155f87",
   "metadata": {},
   "outputs": [
    {
     "data": {
      "text/plain": [
       "[45, 54, 69, 89, 55]"
      ]
     },
     "execution_count": 57,
     "metadata": {},
     "output_type": "execute_result"
    }
   ],
   "source": [
    "l"
   ]
  },
  {
   "cell_type": "code",
   "execution_count": 58,
   "id": "ad82cb3c",
   "metadata": {},
   "outputs": [],
   "source": [
    "l.remove(45)"
   ]
  },
  {
   "cell_type": "code",
   "execution_count": 59,
   "id": "533225a3",
   "metadata": {},
   "outputs": [
    {
     "data": {
      "text/plain": [
       "[54, 69, 89, 55]"
      ]
     },
     "execution_count": 59,
     "metadata": {},
     "output_type": "execute_result"
    }
   ],
   "source": [
    "l"
   ]
  },
  {
   "cell_type": "code",
   "execution_count": 60,
   "id": "56cbd9b3",
   "metadata": {},
   "outputs": [],
   "source": [
    "tup=(45,25,89,42)"
   ]
  },
  {
   "cell_type": "code",
   "execution_count": 61,
   "id": "d27e6759",
   "metadata": {},
   "outputs": [
    {
     "ename": "AttributeError",
     "evalue": "'tuple' object has no attribute 'append'",
     "output_type": "error",
     "traceback": [
      "\u001b[1;31m---------------------------------------------------------------------------\u001b[0m",
      "\u001b[1;31mAttributeError\u001b[0m                            Traceback (most recent call last)",
      "\u001b[1;32m~\\AppData\\Local\\Temp\\ipykernel_13140\\3050294493.py\u001b[0m in \u001b[0;36m<module>\u001b[1;34m\u001b[0m\n\u001b[1;32m----> 1\u001b[1;33m \u001b[0mtup\u001b[0m\u001b[1;33m.\u001b[0m\u001b[0mappend\u001b[0m\u001b[1;33m(\u001b[0m\u001b[1;36m25\u001b[0m\u001b[1;33m)\u001b[0m\u001b[1;33m\u001b[0m\u001b[1;33m\u001b[0m\u001b[0m\n\u001b[0m",
      "\u001b[1;31mAttributeError\u001b[0m: 'tuple' object has no attribute 'append'"
     ]
    }
   ],
   "source": [
    "tup.append(25)"
   ]
  },
  {
   "cell_type": "code",
   "execution_count": 62,
   "id": "95ab4d59",
   "metadata": {},
   "outputs": [],
   "source": [
    "data={1:'navin',2:'aswatha',3:'sneha'}"
   ]
  },
  {
   "cell_type": "code",
   "execution_count": 63,
   "id": "564a1e4d",
   "metadata": {},
   "outputs": [
    {
     "data": {
      "text/plain": [
       "{1: 'navin', 2: 'aswatha', 3: 'sneha'}"
      ]
     },
     "execution_count": 63,
     "metadata": {},
     "output_type": "execute_result"
    }
   ],
   "source": [
    "data"
   ]
  },
  {
   "cell_type": "code",
   "execution_count": 64,
   "id": "45b6b9a8",
   "metadata": {},
   "outputs": [
    {
     "data": {
      "text/plain": [
       "'sneha'"
      ]
     },
     "execution_count": 64,
     "metadata": {},
     "output_type": "execute_result"
    }
   ],
   "source": [
    "data[3]"
   ]
  },
  {
   "cell_type": "code",
   "execution_count": 65,
   "id": "4e16f470",
   "metadata": {},
   "outputs": [
    {
     "data": {
      "text/plain": [
       "'navin'"
      ]
     },
     "execution_count": 65,
     "metadata": {},
     "output_type": "execute_result"
    }
   ],
   "source": [
    "data[1]"
   ]
  },
  {
   "cell_type": "code",
   "execution_count": 67,
   "id": "1a4b8414",
   "metadata": {},
   "outputs": [
    {
     "data": {
      "text/plain": [
       "'navin'"
      ]
     },
     "execution_count": 67,
     "metadata": {},
     "output_type": "execute_result"
    }
   ],
   "source": [
    "data.get(1)"
   ]
  },
  {
   "cell_type": "code",
   "execution_count": 68,
   "id": "a3ca1ca8",
   "metadata": {},
   "outputs": [],
   "source": [
    "keys=['navin','kiran','ash']"
   ]
  },
  {
   "cell_type": "code",
   "execution_count": 69,
   "id": "d48ab63f",
   "metadata": {},
   "outputs": [],
   "source": [
    "values=['python','java','JS']"
   ]
  },
  {
   "cell_type": "code",
   "execution_count": 70,
   "id": "bdeca7af",
   "metadata": {},
   "outputs": [],
   "source": [
    "DATA=dict(zip(keys,values))"
   ]
  },
  {
   "cell_type": "code",
   "execution_count": 71,
   "id": "2fe14c39",
   "metadata": {},
   "outputs": [
    {
     "data": {
      "text/plain": [
       "{'navin': 'python', 'kiran': 'java', 'ash': 'JS'}"
      ]
     },
     "execution_count": 71,
     "metadata": {},
     "output_type": "execute_result"
    }
   ],
   "source": [
    "DATA"
   ]
  },
  {
   "cell_type": "code",
   "execution_count": 72,
   "id": "96120f90",
   "metadata": {},
   "outputs": [],
   "source": [
    "DATA['monica']='cs'"
   ]
  },
  {
   "cell_type": "code",
   "execution_count": 73,
   "id": "b76c2301",
   "metadata": {},
   "outputs": [
    {
     "data": {
      "text/plain": [
       "{'navin': 'python', 'kiran': 'java', 'ash': 'JS', 'monica': 'cs'}"
      ]
     },
     "execution_count": 73,
     "metadata": {},
     "output_type": "execute_result"
    }
   ],
   "source": [
    "DATA"
   ]
  },
  {
   "cell_type": "code",
   "execution_count": 74,
   "id": "87a84861",
   "metadata": {},
   "outputs": [],
   "source": [
    "del DATA['kiran']"
   ]
  },
  {
   "cell_type": "code",
   "execution_count": 75,
   "id": "975eeab1",
   "metadata": {},
   "outputs": [
    {
     "data": {
      "text/plain": [
       "{'navin': 'python', 'ash': 'JS', 'monica': 'cs'}"
      ]
     },
     "execution_count": 75,
     "metadata": {},
     "output_type": "execute_result"
    }
   ],
   "source": [
    "DATA"
   ]
  },
  {
   "cell_type": "code",
   "execution_count": null,
   "id": "c419a6df",
   "metadata": {},
   "outputs": [],
   "source": [
    "PROG={JS:'atom','cs':'vs','python':['pycharm',]}"
   ]
  }
 ],
 "metadata": {
  "kernelspec": {
   "display_name": "Python 3 (ipykernel)",
   "language": "python",
   "name": "python3"
  },
  "language_info": {
   "codemirror_mode": {
    "name": "ipython",
    "version": 3
   },
   "file_extension": ".py",
   "mimetype": "text/x-python",
   "name": "python",
   "nbconvert_exporter": "python",
   "pygments_lexer": "ipython3",
   "version": "3.9.13"
  }
 },
 "nbformat": 4,
 "nbformat_minor": 5
}
